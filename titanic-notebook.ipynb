{
 "cells": [
  {
   "cell_type": "code",
   "execution_count": 3,
   "metadata": {},
   "outputs": [],
   "source": [
    "import pandas as pd\n",
    "import numpy as np\n",
    "import seaborn as sns\n",
    "import matplotlib.pyplot as plt\n",
    "plt.style.use('fivethirtyeight')\n",
    "import warnings\n",
    "warnings.filterwarnings('ignore')\n",
    "%matplotlib inline"
   ]
  },
  {
   "cell_type": "code",
   "execution_count": 8,
   "metadata": {},
   "outputs": [],
   "source": [
    "df = pd.read_csv('E:\\TRAIN.csv')"
   ]
  },
  {
   "cell_type": "code",
   "execution_count": 9,
   "metadata": {},
   "outputs": [
    {
     "data": {
      "text/html": [
       "<div>\n",
       "<style scoped>\n",
       "    .dataframe tbody tr th:only-of-type {\n",
       "        vertical-align: middle;\n",
       "    }\n",
       "\n",
       "    .dataframe tbody tr th {\n",
       "        vertical-align: top;\n",
       "    }\n",
       "\n",
       "    .dataframe thead th {\n",
       "        text-align: right;\n",
       "    }\n",
       "</style>\n",
       "<table border=\"1\" class=\"dataframe\">\n",
       "  <thead>\n",
       "    <tr style=\"text-align: right;\">\n",
       "      <th></th>\n",
       "      <th>PassengerId</th>\n",
       "      <th>Survived</th>\n",
       "      <th>Pclass</th>\n",
       "      <th>Name</th>\n",
       "      <th>Sex</th>\n",
       "      <th>Age</th>\n",
       "      <th>SibSp</th>\n",
       "      <th>Parch</th>\n",
       "      <th>Ticket</th>\n",
       "      <th>Fare</th>\n",
       "      <th>Cabin</th>\n",
       "      <th>Embarked</th>\n",
       "    </tr>\n",
       "  </thead>\n",
       "  <tbody>\n",
       "    <tr>\n",
       "      <th>0</th>\n",
       "      <td>1</td>\n",
       "      <td>0</td>\n",
       "      <td>3</td>\n",
       "      <td>Braund, Mr. Owen Harris</td>\n",
       "      <td>male</td>\n",
       "      <td>22.0</td>\n",
       "      <td>1</td>\n",
       "      <td>0</td>\n",
       "      <td>A/5 21171</td>\n",
       "      <td>7.2500</td>\n",
       "      <td>NaN</td>\n",
       "      <td>S</td>\n",
       "    </tr>\n",
       "    <tr>\n",
       "      <th>1</th>\n",
       "      <td>2</td>\n",
       "      <td>1</td>\n",
       "      <td>1</td>\n",
       "      <td>Cumings, Mrs. John Bradley (Florence Briggs Th...</td>\n",
       "      <td>female</td>\n",
       "      <td>38.0</td>\n",
       "      <td>1</td>\n",
       "      <td>0</td>\n",
       "      <td>PC 17599</td>\n",
       "      <td>71.2833</td>\n",
       "      <td>C85</td>\n",
       "      <td>C</td>\n",
       "    </tr>\n",
       "    <tr>\n",
       "      <th>2</th>\n",
       "      <td>3</td>\n",
       "      <td>1</td>\n",
       "      <td>3</td>\n",
       "      <td>Heikkinen, Miss. Laina</td>\n",
       "      <td>female</td>\n",
       "      <td>26.0</td>\n",
       "      <td>0</td>\n",
       "      <td>0</td>\n",
       "      <td>STON/O2. 3101282</td>\n",
       "      <td>7.9250</td>\n",
       "      <td>NaN</td>\n",
       "      <td>S</td>\n",
       "    </tr>\n",
       "    <tr>\n",
       "      <th>3</th>\n",
       "      <td>4</td>\n",
       "      <td>1</td>\n",
       "      <td>1</td>\n",
       "      <td>Futrelle, Mrs. Jacques Heath (Lily May Peel)</td>\n",
       "      <td>female</td>\n",
       "      <td>35.0</td>\n",
       "      <td>1</td>\n",
       "      <td>0</td>\n",
       "      <td>113803</td>\n",
       "      <td>53.1000</td>\n",
       "      <td>C123</td>\n",
       "      <td>S</td>\n",
       "    </tr>\n",
       "    <tr>\n",
       "      <th>4</th>\n",
       "      <td>5</td>\n",
       "      <td>0</td>\n",
       "      <td>3</td>\n",
       "      <td>Allen, Mr. William Henry</td>\n",
       "      <td>male</td>\n",
       "      <td>35.0</td>\n",
       "      <td>0</td>\n",
       "      <td>0</td>\n",
       "      <td>373450</td>\n",
       "      <td>8.0500</td>\n",
       "      <td>NaN</td>\n",
       "      <td>S</td>\n",
       "    </tr>\n",
       "  </tbody>\n",
       "</table>\n",
       "</div>"
      ],
      "text/plain": [
       "   PassengerId  Survived  Pclass  \\\n",
       "0            1         0       3   \n",
       "1            2         1       1   \n",
       "2            3         1       3   \n",
       "3            4         1       1   \n",
       "4            5         0       3   \n",
       "\n",
       "                                                Name     Sex   Age  SibSp  \\\n",
       "0                            Braund, Mr. Owen Harris    male  22.0      1   \n",
       "1  Cumings, Mrs. John Bradley (Florence Briggs Th...  female  38.0      1   \n",
       "2                             Heikkinen, Miss. Laina  female  26.0      0   \n",
       "3       Futrelle, Mrs. Jacques Heath (Lily May Peel)  female  35.0      1   \n",
       "4                           Allen, Mr. William Henry    male  35.0      0   \n",
       "\n",
       "   Parch            Ticket     Fare Cabin Embarked  \n",
       "0      0         A/5 21171   7.2500   NaN        S  \n",
       "1      0          PC 17599  71.2833   C85        C  \n",
       "2      0  STON/O2. 3101282   7.9250   NaN        S  \n",
       "3      0            113803  53.1000  C123        S  \n",
       "4      0            373450   8.0500   NaN        S  "
      ]
     },
     "execution_count": 9,
     "metadata": {},
     "output_type": "execute_result"
    }
   ],
   "source": [
    "df.head()"
   ]
  },
  {
   "cell_type": "code",
   "execution_count": 15,
   "metadata": {},
   "outputs": [
    {
     "data": {
      "text/plain": [
       "PassengerId      0\n",
       "Survived         0\n",
       "Pclass           0\n",
       "Name             0\n",
       "Sex              0\n",
       "Age            177\n",
       "SibSp            0\n",
       "Parch            0\n",
       "Ticket           0\n",
       "Fare             0\n",
       "Cabin          687\n",
       "Embarked         2\n",
       "dtype: int64"
      ]
     },
     "execution_count": 15,
     "metadata": {},
     "output_type": "execute_result"
    }
   ],
   "source": [
    "df.isnull().sum()"
   ]
  },
  {
   "cell_type": "code",
   "execution_count": 16,
   "metadata": {},
   "outputs": [
    {
     "data": {
      "image/png": "[encoded data removed]",
      "text/plain": [
       "<Figure size 1296x576 with 2 Axes>"
      ]
     },
     "metadata": {
      "needs_background": "light"
     },
     "output_type": "display_data"
    }
   ],
   "source": [
    "f,ax=plt.subplots(1,2,figsize=(18,8))\n",
    "df['Survived'].value_counts().plot.pie(explode=[0,0.1],autopct='%1.1f%%',ax=ax[0],shadow=True)\n",
    "ax[0].set_title('Survived')\n",
    "ax[0].set_ylabel('')\n",
    "sns.countplot('Survived',data=df,ax=ax[1])\n",
    "ax[1].set_title('Survived')\n",
    "plt.show()"
   ]
  },
  {
   "cell_type": "code",
   "execution_count": 23,
   "metadata": {},
   "outputs": [
    {
     "data": {
      "text/plain": [
       "Sex     Survived\n",
       "female  0            81\n",
       "        1           233\n",
       "male    0           468\n",
       "        1           109\n",
       "Name: Survived, dtype: int64"
      ]
     },
     "execution_count": 23,
     "metadata": {},
     "output_type": "execute_result"
    }
   ],
   "source": [
    "#analysing on the basis of gender \n",
    "df.groupby(['Sex','Survived'])['Survived'].count()\n"
   ]
  },
  {
   "cell_type": "code",
   "execution_count": 26,
   "metadata": {},
   "outputs": [
    {
     "data": {
      "image/png": "[encoded data removed]",
      "text/plain": [
       "<Figure size 1296x576 with 2 Axes>"
      ]
     },
     "metadata": {
      "needs_background": "light"
     },
     "output_type": "display_data"
    }
   ],
   "source": [
    "#now ploitting this inference for getting inference from visualisation\n",
    "f,ax=plt.subplots(1,2,figsize=(18,8))\n",
    "df[['Sex','Survived']].groupby(['Sex']).mean().plot.bar(ax=ax[0])\n",
    "ax[0].set_title(\"sex vs survived\")\n",
    "sns.countplot('Sex',hue='Survived',data=df,ax=ax[1])\n",
    "ax[1].set_title('sex vs survived')\n",
    "plt.show()\n"
   ]
  },
  {
   "cell_type": "code",
   "execution_count": 28,
   "metadata": {},
   "outputs": [],
   "source": [
    "# as we saw from the plot the gender is having a signifiacnt \n",
    "#impacvt on the decision of survival so we will take this feature for considiration"
   ]
  },
  {
   "cell_type": "code",
   "execution_count": 31,
   "metadata": {},
   "outputs": [
    {
     "data": {
      "text/html": [
       "<style  type=\"text/css\" >\n",
       "    #T_4a412e78_c293_11e9_bafc_1062e5e38a3erow0_col0 {\n",
       "            background-color:  #ffff66;\n",
       "        }    #T_4a412e78_c293_11e9_bafc_1062e5e38a3erow0_col1 {\n",
       "            background-color:  #cee666;\n",
       "        }    #T_4a412e78_c293_11e9_bafc_1062e5e38a3erow0_col2 {\n",
       "            background-color:  #f4fa66;\n",
       "        }    #T_4a412e78_c293_11e9_bafc_1062e5e38a3erow1_col0 {\n",
       "            background-color:  #f6fa66;\n",
       "        }    #T_4a412e78_c293_11e9_bafc_1062e5e38a3erow1_col1 {\n",
       "            background-color:  #ffff66;\n",
       "        }    #T_4a412e78_c293_11e9_bafc_1062e5e38a3erow1_col2 {\n",
       "            background-color:  #ffff66;\n",
       "        }    #T_4a412e78_c293_11e9_bafc_1062e5e38a3erow2_col0 {\n",
       "            background-color:  #60b066;\n",
       "        }    #T_4a412e78_c293_11e9_bafc_1062e5e38a3erow2_col1 {\n",
       "            background-color:  #dfef66;\n",
       "        }    #T_4a412e78_c293_11e9_bafc_1062e5e38a3erow2_col2 {\n",
       "            background-color:  #90c866;\n",
       "        }    #T_4a412e78_c293_11e9_bafc_1062e5e38a3erow3_col0 {\n",
       "            background-color:  #008066;\n",
       "        }    #T_4a412e78_c293_11e9_bafc_1062e5e38a3erow3_col1 {\n",
       "            background-color:  #008066;\n",
       "        }    #T_4a412e78_c293_11e9_bafc_1062e5e38a3erow3_col2 {\n",
       "            background-color:  #008066;\n",
       "        }</style>  \n",
       "<table id=\"T_4a412e78_c293_11e9_bafc_1062e5e38a3e\" > \n",
       "<thead>    <tr> \n",
       "        <th class=\"index_name level0\" >Survived</th> \n",
       "        <th class=\"col_heading level0 col0\" >0</th> \n",
       "        <th class=\"col_heading level0 col1\" >1</th> \n",
       "        <th class=\"col_heading level0 col2\" >All</th> \n",
       "    </tr>    <tr> \n",
       "        <th class=\"index_name level0\" >Pclass</th> \n",
       "        <th class=\"blank\" ></th> \n",
       "        <th class=\"blank\" ></th> \n",
       "        <th class=\"blank\" ></th> \n",
       "    </tr></thead> \n",
       "<tbody>    <tr> \n",
       "        <th id=\"T_4a412e78_c293_11e9_bafc_1062e5e38a3elevel0_row0\" class=\"row_heading level0 row0\" >1</th> \n",
       "        <td id=\"T_4a412e78_c293_11e9_bafc_1062e5e38a3erow0_col0\" class=\"data row0 col0\" >80</td> \n",
       "        <td id=\"T_4a412e78_c293_11e9_bafc_1062e5e38a3erow0_col1\" class=\"data row0 col1\" >136</td> \n",
       "        <td id=\"T_4a412e78_c293_11e9_bafc_1062e5e38a3erow0_col2\" class=\"data row0 col2\" >216</td> \n",
       "    </tr>    <tr> \n",
       "        <th id=\"T_4a412e78_c293_11e9_bafc_1062e5e38a3elevel0_row1\" class=\"row_heading level0 row1\" >2</th> \n",
       "        <td id=\"T_4a412e78_c293_11e9_bafc_1062e5e38a3erow1_col0\" class=\"data row1 col0\" >97</td> \n",
       "        <td id=\"T_4a412e78_c293_11e9_bafc_1062e5e38a3erow1_col1\" class=\"data row1 col1\" >87</td> \n",
       "        <td id=\"T_4a412e78_c293_11e9_bafc_1062e5e38a3erow1_col2\" class=\"data row1 col2\" >184</td> \n",
       "    </tr>    <tr> \n",
       "        <th id=\"T_4a412e78_c293_11e9_bafc_1062e5e38a3elevel0_row2\" class=\"row_heading level0 row2\" >3</th> \n",
       "        <td id=\"T_4a412e78_c293_11e9_bafc_1062e5e38a3erow2_col0\" class=\"data row2 col0\" >372</td> \n",
       "        <td id=\"T_4a412e78_c293_11e9_bafc_1062e5e38a3erow2_col1\" class=\"data row2 col1\" >119</td> \n",
       "        <td id=\"T_4a412e78_c293_11e9_bafc_1062e5e38a3erow2_col2\" class=\"data row2 col2\" >491</td> \n",
       "    </tr>    <tr> \n",
       "        <th id=\"T_4a412e78_c293_11e9_bafc_1062e5e38a3elevel0_row3\" class=\"row_heading level0 row3\" >All</th> \n",
       "        <td id=\"T_4a412e78_c293_11e9_bafc_1062e5e38a3erow3_col0\" class=\"data row3 col0\" >549</td> \n",
       "        <td id=\"T_4a412e78_c293_11e9_bafc_1062e5e38a3erow3_col1\" class=\"data row3 col1\" >342</td> \n",
       "        <td id=\"T_4a412e78_c293_11e9_bafc_1062e5e38a3erow3_col2\" class=\"data row3 col2\" >891</td> \n",
       "    </tr></tbody> \n",
       "</table> "
      ],
      "text/plain": [
       "<pandas.io.formats.style.Styler at 0x1d28b460cc0>"
      ]
     },
     "execution_count": 31,
     "metadata": {},
     "output_type": "execute_result"
    }
   ],
   "source": [
    "pd.crosstab(df.Pclass,df.Survived,margins=True).style.background_gradient(cmap='summer_r')"
   ]
  },
  {
   "cell_type": "code",
   "execution_count": 32,
   "metadata": {},
   "outputs": [
    {
     "data": {
      "image/png": "[encoded data removed]",
      "text/plain": [
       "<Figure size 1296x576 with 2 Axes>"
      ]
     },
     "metadata": {
      "needs_background": "light"
     },
     "output_type": "display_data"
    }
   ],
   "source": [
    "f,ax=plt.subplots(1,2,figsize=(18,8))\n",
    "df['Pclass'].value_counts().plot.bar(color=['#CD7F32','#FFDF00','#D3D3D3'],ax=ax[0])\n",
    "ax[0].set_title('Number Of Passengers By Pclass')\n",
    "ax[0].set_ylabel('Count')\n",
    "sns.countplot('Pclass',hue='Survived',data=df,ax=ax[1])\n",
    "ax[1].set_title('Pclass:Survived vs Dead')\n",
    "plt.show()"
   ]
  },
  {
   "cell_type": "code",
   "execution_count": 33,
   "metadata": {},
   "outputs": [],
   "source": [
    "#now we observed that the pclass is also having a good impact on survival rate \n"
   ]
  },
  {
   "cell_type": "code",
   "execution_count": 35,
   "metadata": {},
   "outputs": [
    {
     "data": {
      "text/html": [
       "<style  type=\"text/css\" >\n",
       "    #T_c4071b0a_c293_11e9_846a_1062e5e38a3erow0_col0 {\n",
       "            background-color:  #ffff66;\n",
       "        }    #T_c4071b0a_c293_11e9_846a_1062e5e38a3erow0_col1 {\n",
       "            background-color:  #ffff66;\n",
       "        }    #T_c4071b0a_c293_11e9_846a_1062e5e38a3erow0_col2 {\n",
       "            background-color:  #f1f866;\n",
       "        }    #T_c4071b0a_c293_11e9_846a_1062e5e38a3erow0_col3 {\n",
       "            background-color:  #ffff66;\n",
       "        }    #T_c4071b0a_c293_11e9_846a_1062e5e38a3erow1_col0 {\n",
       "            background-color:  #96cb66;\n",
       "        }    #T_c4071b0a_c293_11e9_846a_1062e5e38a3erow1_col1 {\n",
       "            background-color:  #a3d166;\n",
       "        }    #T_c4071b0a_c293_11e9_846a_1062e5e38a3erow1_col2 {\n",
       "            background-color:  #f1f866;\n",
       "        }    #T_c4071b0a_c293_11e9_846a_1062e5e38a3erow1_col3 {\n",
       "            background-color:  #cfe766;\n",
       "        }    #T_c4071b0a_c293_11e9_846a_1062e5e38a3erow2_col0 {\n",
       "            background-color:  #a7d366;\n",
       "        }    #T_c4071b0a_c293_11e9_846a_1062e5e38a3erow2_col1 {\n",
       "            background-color:  #85c266;\n",
       "        }    #T_c4071b0a_c293_11e9_846a_1062e5e38a3erow2_col2 {\n",
       "            background-color:  #6eb666;\n",
       "        }    #T_c4071b0a_c293_11e9_846a_1062e5e38a3erow2_col3 {\n",
       "            background-color:  #85c266;\n",
       "        }    #T_c4071b0a_c293_11e9_846a_1062e5e38a3erow3_col0 {\n",
       "            background-color:  #cde666;\n",
       "        }    #T_c4071b0a_c293_11e9_846a_1062e5e38a3erow3_col1 {\n",
       "            background-color:  #f0f866;\n",
       "        }    #T_c4071b0a_c293_11e9_846a_1062e5e38a3erow3_col2 {\n",
       "            background-color:  #ffff66;\n",
       "        }    #T_c4071b0a_c293_11e9_846a_1062e5e38a3erow3_col3 {\n",
       "            background-color:  #f7fb66;\n",
       "        }    #T_c4071b0a_c293_11e9_846a_1062e5e38a3erow4_col0 {\n",
       "            background-color:  #008066;\n",
       "        }    #T_c4071b0a_c293_11e9_846a_1062e5e38a3erow4_col1 {\n",
       "            background-color:  #008066;\n",
       "        }    #T_c4071b0a_c293_11e9_846a_1062e5e38a3erow4_col2 {\n",
       "            background-color:  #008066;\n",
       "        }    #T_c4071b0a_c293_11e9_846a_1062e5e38a3erow4_col3 {\n",
       "            background-color:  #008066;\n",
       "        }</style>  \n",
       "<table id=\"T_c4071b0a_c293_11e9_846a_1062e5e38a3e\" > \n",
       "<thead>    <tr> \n",
       "        <th class=\"blank\" ></th> \n",
       "        <th class=\"index_name level0\" >Pclass</th> \n",
       "        <th class=\"col_heading level0 col0\" >1</th> \n",
       "        <th class=\"col_heading level0 col1\" >2</th> \n",
       "        <th class=\"col_heading level0 col2\" >3</th> \n",
       "        <th class=\"col_heading level0 col3\" >All</th> \n",
       "    </tr>    <tr> \n",
       "        <th class=\"index_name level0\" >Sex</th> \n",
       "        <th class=\"index_name level1\" >Survived</th> \n",
       "        <th class=\"blank\" ></th> \n",
       "        <th class=\"blank\" ></th> \n",
       "        <th class=\"blank\" ></th> \n",
       "        <th class=\"blank\" ></th> \n",
       "    </tr></thead> \n",
       "<tbody>    <tr> \n",
       "        <th id=\"T_c4071b0a_c293_11e9_846a_1062e5e38a3elevel0_row0\" class=\"row_heading level0 row0\" rowspan=2>female</th> \n",
       "        <th id=\"T_c4071b0a_c293_11e9_846a_1062e5e38a3elevel1_row0\" class=\"row_heading level1 row0\" >0</th> \n",
       "        <td id=\"T_c4071b0a_c293_11e9_846a_1062e5e38a3erow0_col0\" class=\"data row0 col0\" >3</td> \n",
       "        <td id=\"T_c4071b0a_c293_11e9_846a_1062e5e38a3erow0_col1\" class=\"data row0 col1\" >6</td> \n",
       "        <td id=\"T_c4071b0a_c293_11e9_846a_1062e5e38a3erow0_col2\" class=\"data row0 col2\" >72</td> \n",
       "        <td id=\"T_c4071b0a_c293_11e9_846a_1062e5e38a3erow0_col3\" class=\"data row0 col3\" >81</td> \n",
       "    </tr>    <tr> \n",
       "        <th id=\"T_c4071b0a_c293_11e9_846a_1062e5e38a3elevel1_row1\" class=\"row_heading level1 row1\" >1</th> \n",
       "        <td id=\"T_c4071b0a_c293_11e9_846a_1062e5e38a3erow1_col0\" class=\"data row1 col0\" >91</td> \n",
       "        <td id=\"T_c4071b0a_c293_11e9_846a_1062e5e38a3erow1_col1\" class=\"data row1 col1\" >70</td> \n",
       "        <td id=\"T_c4071b0a_c293_11e9_846a_1062e5e38a3erow1_col2\" class=\"data row1 col2\" >72</td> \n",
       "        <td id=\"T_c4071b0a_c293_11e9_846a_1062e5e38a3erow1_col3\" class=\"data row1 col3\" >233</td> \n",
       "    </tr>    <tr> \n",
       "        <th id=\"T_c4071b0a_c293_11e9_846a_1062e5e38a3elevel0_row2\" class=\"row_heading level0 row2\" rowspan=2>male</th> \n",
       "        <th id=\"T_c4071b0a_c293_11e9_846a_1062e5e38a3elevel1_row2\" class=\"row_heading level1 row2\" >0</th> \n",
       "        <td id=\"T_c4071b0a_c293_11e9_846a_1062e5e38a3erow2_col0\" class=\"data row2 col0\" >77</td> \n",
       "        <td id=\"T_c4071b0a_c293_11e9_846a_1062e5e38a3erow2_col1\" class=\"data row2 col1\" >91</td> \n",
       "        <td id=\"T_c4071b0a_c293_11e9_846a_1062e5e38a3erow2_col2\" class=\"data row2 col2\" >300</td> \n",
       "        <td id=\"T_c4071b0a_c293_11e9_846a_1062e5e38a3erow2_col3\" class=\"data row2 col3\" >468</td> \n",
       "    </tr>    <tr> \n",
       "        <th id=\"T_c4071b0a_c293_11e9_846a_1062e5e38a3elevel1_row3\" class=\"row_heading level1 row3\" >1</th> \n",
       "        <td id=\"T_c4071b0a_c293_11e9_846a_1062e5e38a3erow3_col0\" class=\"data row3 col0\" >45</td> \n",
       "        <td id=\"T_c4071b0a_c293_11e9_846a_1062e5e38a3erow3_col1\" class=\"data row3 col1\" >17</td> \n",
       "        <td id=\"T_c4071b0a_c293_11e9_846a_1062e5e38a3erow3_col2\" class=\"data row3 col2\" >47</td> \n",
       "        <td id=\"T_c4071b0a_c293_11e9_846a_1062e5e38a3erow3_col3\" class=\"data row3 col3\" >109</td> \n",
       "    </tr>    <tr> \n",
       "        <th id=\"T_c4071b0a_c293_11e9_846a_1062e5e38a3elevel0_row4\" class=\"row_heading level0 row4\" >All</th> \n",
       "        <th id=\"T_c4071b0a_c293_11e9_846a_1062e5e38a3elevel1_row4\" class=\"row_heading level1 row4\" ></th> \n",
       "        <td id=\"T_c4071b0a_c293_11e9_846a_1062e5e38a3erow4_col0\" class=\"data row4 col0\" >216</td> \n",
       "        <td id=\"T_c4071b0a_c293_11e9_846a_1062e5e38a3erow4_col1\" class=\"data row4 col1\" >184</td> \n",
       "        <td id=\"T_c4071b0a_c293_11e9_846a_1062e5e38a3erow4_col2\" class=\"data row4 col2\" >491</td> \n",
       "        <td id=\"T_c4071b0a_c293_11e9_846a_1062e5e38a3erow4_col3\" class=\"data row4 col3\" >891</td> \n",
       "    </tr></tbody> \n",
       "</table> "
      ],
      "text/plain": [
       "<pandas.io.formats.style.Styler at 0x1d28b3f0550>"
      ]
     },
     "execution_count": 35,
     "metadata": {},
     "output_type": "execute_result"
    }
   ],
   "source": [
    "pd.crosstab([df.Sex,df.Survived],df.Pclass,margins=True).style.background_gradient(cmap='summer_r')"
   ]
  },
  {
   "cell_type": "code",
   "execution_count": 37,
   "metadata": {},
   "outputs": [
    {
     "data": {
      "image/png": "[encoded data removed]",
      "text/plain": [
       "<Figure size 430.5x360 with 1 Axes>"
      ]
     },
     "metadata": {
      "needs_background": "light"
     },
     "output_type": "display_data"
    }
   ],
   "source": [
    "sns.factorplot('Pclass','Survived',hue='Sex',data=df)\n",
    "plt.show()\n"
   ]
  },
  {
   "cell_type": "code",
   "execution_count": null,
   "metadata": {},
   "outputs": [],
   "source": []
  },
  {
   "cell_type": "code",
   "execution_count": null,
   "metadata": {},
   "outputs": [],
   "source": []
  },
  {
   "cell_type": "code",
   "execution_count": null,
   "metadata": {},
   "outputs": [],
   "source": []
  }
 ],
 "metadata": {
  "kernelspec": {
   "display_name": "Python 3",
   "language": "python",
   "name": "python3"
  },
  "language_info": {
   "codemirror_mode": {
    "name": "ipython",
    "version": 3
   },
   "file_extension": ".py",
   "mimetype": "text/x-python",
   "name": "python",
   "nbconvert_exporter": "python",
   "pygments_lexer": "ipython3",
   "version": "3.7.1"
  }
 },
 "nbformat": 4,
 "nbformat_minor": 2
}
